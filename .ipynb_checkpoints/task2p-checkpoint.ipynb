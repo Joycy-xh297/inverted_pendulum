{
 "cells": [
  {
   "cell_type": "code",
   "execution_count": 1,
   "metadata": {},
   "outputs": [],
   "source": [
    "from CartPole import *\n",
    "import numpy as np\n",
    "import random"
   ]
  },
  {
   "cell_type": "code",
   "execution_count": 2,
   "metadata": {},
   "outputs": [],
   "source": [
    "def kernel(X,Xi,sigma):\n",
    "    K = np.zeros((X.shape[0],Xi.shape[0]))\n",
    "    dim = X.shape[1]\n",
    "    for i,x in enumerate(X):\n",
    "        for j,xi in enumerate(Xi):\n",
    "            sum = 0\n",
    "            for k in range(dim):\n",
    "                if k == 2:\n",
    "                    sum += 1.0*np.sin((x[k]-xi[k])/2)**2/sigma[k]**2\n",
    "                else:\n",
    "                    sum += 1.0*(x[k]-xi[k])**2/sigma[k]**2\n",
    "            K[i,j] = np.exp(-0.5*sum)\n",
    "    return K"
   ]
  },
  {
   "cell_type": "code",
   "execution_count": 3,
   "metadata": {},
   "outputs": [],
   "source": [
    "def fit(K_NM,K_MM,lam,Y):\n",
    "    \"\"\"return coefficients for each of the dimensions\"\"\"\n",
    "    K_MN = np.transpose(K_NM)\n",
    "    A = np.matmul(K_MN,K_NM) + lam * K_MM\n",
    "    B = np.matmul(K_MN,Y)\n",
    "    alpha = np.linalg.lstsq(A,B)[0]\n",
    "    return alpha"
   ]
  },
  {
   "cell_type": "code",
   "execution_count": 4,
   "metadata": {},
   "outputs": [],
   "source": [
    "def predict(X,XM,sigma,alpha):\n",
    "    K_MN = kernel(X,XM,sigma)\n",
    "    return np.matmul(K_MN,alpha)"
   ]
  },
  {
   "cell_type": "code",
   "execution_count": 5,
   "metadata": {},
   "outputs": [],
   "source": [
    "def l(X,sigma):\n",
    "    \"\"\"X: state vector\"\"\"\n",
    "    sum = 0\n",
    "    for i,x in enumerate(X):\n",
    "        sum += -0.5*np.linalg.norm(x)**2/sigma[i]**2\n",
    "    return 1.0-np.exp(sum)"
   ]
  },
  {
   "cell_type": "code",
   "execution_count": 6,
   "metadata": {},
   "outputs": [],
   "source": [
    "N = 1000 # NO of datapoints\n",
    "M = 640 # NO of data locations for basis function\n",
    "lam = 10**(-4) # variance of data noise\n",
    "cartpole1 = CartPole()\n",
    "X = []\n",
    "Y = []\n",
    "for i in range(N):\n",
    "    x = random.uniform(-5,5)\n",
    "    x_dot = random.uniform(-10,10)\n",
    "    theta = random.uniform(-np.pi,np.pi)\n",
    "    theta_dot = random.uniform(-15,15)\n",
    "    act = random.uniform(-20,20)\n",
    "    Xn = np.array([x,x_dot,theta,theta_dot,act])\n",
    "    X.append(Xn)\n",
    "    cartpole1.setState(Xn[:-1])\n",
    "    cartpole1.performAction(action=Xn[-1])\n",
    "    Xn_1 = np.array(cartpole1.getState())\n",
    "    Y.append(Xn_1-Xn[:-1])\n",
    "X = np.array(X)\n",
    "Y = np.array(Y)"
   ]
  },
  {
   "cell_type": "code",
   "execution_count": 7,
   "metadata": {},
   "outputs": [
    {
     "name": "stderr",
     "output_type": "stream",
     "text": [
      "<ipython-input-3-354c0fc11cff>:6: FutureWarning: `rcond` parameter will change to the default of machine precision times ``max(M, N)`` where M and N are the input matrix dimensions.\n",
      "To use the future default and silence this warning we advise to pass `rcond=None`, to keep using the old, explicitly pass `rcond=-1`.\n",
      "  alpha = np.linalg.lstsq(A,B)[0]\n"
     ]
    }
   ],
   "source": [
    "M_ind = random.sample(range(N),M)\n",
    "XM = np.array([X[ind] for ind in M_ind])\n",
    "sigma = [np.std(X[:,i]) for i in range(X.shape[1])]\n",
    "K_NM = kernel(X,XM,sigma)\n",
    "K_MM = kernel(XM,XM,sigma)\n",
    "alpha = fit(K_NM,K_MM,lam,Y)\n",
    "Y_predict = predict(X,XM,sigma,alpha)\n",
    "\n",
    "\n",
    "\"\"\"time evolution using perfromAction and model\"\"\"\n",
    "# setting parameters\n",
    "max_t = 4.0\n",
    "steps = int(max_t/cartpole1.delta_time) # 0.2s per step\n",
    "\n",
    "Xn = np.array([0,0,np.pi,-14.7,0.0])\n",
    "z = np.zeros((M,1))\n",
    "np.append(XM,z,axis=1)\n",
    "X_cartpole = [Xn]\n",
    "X_model = [Xn] \n",
    "\n",
    "Xn1_new = Xn\n",
    "Xn2_new = Xn\n",
    "\n",
    "for i in range(steps):\n",
    "    Xn1 = Xn1_new\n",
    "    Xn2 = Xn2_new\n",
    "    Xn1 = Xn1.reshape(1,Xn1.shape[0])\n",
    "    Yn1 = predict(Xn1,XM,sigma,alpha)\n",
    "    Yn1.resize(Xn1.shape)\n",
    "    Xn1_new = Xn1 + Yn1\n",
    "    Xn1_new = np.array(Xn1_new[0])\n",
    "    Xn1_new[2] = remap_angle(Xn1_new[2])\n",
    "    X_model.append(Xn1_new)\n",
    "    cartpole1.setState(Xn2[:-1])\n",
    "    cartpole1.performAction()\n",
    "    cartpole1.remap_angle()\n",
    "    Xn2_new = cartpole1.getState()\n",
    "    Xn2_new.resize(Xn2.shape)\n",
    "    Xn2_new = np.array(Xn2_new)\n",
    "    X_cartpole.append(Xn2_new)\n",
    "\n",
    "X_cartpole = np.array(X_cartpole[:-1])\n",
    "X_model = np.array(X_model[:-1])"
   ]
  },
  {
   "cell_type": "code",
   "execution_count": null,
   "metadata": {},
   "outputs": [],
   "source": []
  }
 ],
 "metadata": {
  "kernelspec": {
   "display_name": "Python 3",
   "language": "python",
   "name": "python3"
  },
  "language_info": {
   "codemirror_mode": {
    "name": "ipython",
    "version": 3
   },
   "file_extension": ".py",
   "mimetype": "text/x-python",
   "name": "python",
   "nbconvert_exporter": "python",
   "pygments_lexer": "ipython3",
   "version": "3.8.3"
  }
 },
 "nbformat": 4,
 "nbformat_minor": 2
}
